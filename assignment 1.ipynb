{
 "cells": [
  {
   "cell_type": "code",
   "execution_count": null,
   "id": "initial_id",
   "metadata": {
    "collapsed": true
   },
   "outputs": [],
   "source": [
    "n = 1\n",
    "m = \"*\"\n",
    "while n<=5:\n",
    "\n",
    "  print(m)\n",
    "  n = n + 1\n",
    "  m = m + \"*\"\n",
    "\n",
    "n = 1\n",
    "m = \"*\"\n",
    "k = m + \"*\"\n",
    "while n<=5:\n",
    "  if n == 1:\n",
    "    print(m)\n",
    "  else:\n",
    "    print(k)\n",
    "  n = n + 1\n",
    "  k = k + \"*\""
   ]
  },
  {
   "metadata": {},
   "cell_type": "code",
   "outputs": [],
   "execution_count": null,
   "source": "",
   "id": "af08e94639dbf470"
  },
  {
   "metadata": {},
   "cell_type": "code",
   "outputs": [],
   "execution_count": null,
   "source": "",
   "id": "f58fe6e97e68fecf"
  },
  {
   "metadata": {},
   "cell_type": "code",
   "outputs": [],
   "execution_count": null,
   "source": "",
   "id": "25ce8895bcb4cae9"
  }
 ],
 "metadata": {
  "kernelspec": {
   "display_name": "Python 3",
   "language": "python",
   "name": "python3"
  },
  "language_info": {
   "codemirror_mode": {
    "name": "ipython",
    "version": 2
   },
   "file_extension": ".py",
   "mimetype": "text/x-python",
   "name": "python",
   "nbconvert_exporter": "python",
   "pygments_lexer": "ipython2",
   "version": "2.7.6"
  }
 },
 "nbformat": 4,
 "nbformat_minor": 5
}
