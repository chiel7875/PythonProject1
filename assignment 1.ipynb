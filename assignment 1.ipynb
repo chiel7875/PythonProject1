{
 "cells": [
  {
   "cell_type": "code",
   "id": "initial_id",
   "metadata": {
    "collapsed": true,
    "ExecuteTime": {
     "end_time": "2025-09-28T09:01:27.119794Z",
     "start_time": "2025-09-28T09:01:27.116259Z"
    }
   },
   "source": [
    "n = 1\n",
    "m = \"*\"\n",
    "while n<=5:\n",
    "\n",
    "  print(m)\n",
    "  n = n + 1\n",
    "  m = m + \"*\"\n",
    "\n",
    "n = 1\n",
    "m = \"*\"\n",
    "k = m + \"*\"\n",
    "while n<=5:\n",
    "  if n == 1:\n",
    "    print(m)\n",
    "  else:\n",
    "    print(k)\n",
    "  n = n + 1\n",
    "  k = k + \"*\""
   ],
   "outputs": [
    {
     "name": "stdout",
     "output_type": "stream",
     "text": [
      "*\n",
      "**\n",
      "***\n",
      "****\n",
      "*****\n",
      "*\n",
      "***\n",
      "****\n",
      "*****\n",
      "******\n"
     ]
    }
   ],
   "execution_count": 2
  },
  {
   "metadata": {
    "ExecuteTime": {
     "end_time": "2025-09-28T09:01:29.141205Z",
     "start_time": "2025-09-28T09:01:29.139407Z"
    }
   },
   "cell_type": "code",
   "source": "",
   "id": "f24185518fe30d1d",
   "outputs": [],
   "execution_count": null
  },
  {
   "metadata": {
    "ExecuteTime": {
     "end_time": "2025-09-28T09:01:29.649883Z",
     "start_time": "2025-09-28T09:01:29.648044Z"
    }
   },
   "cell_type": "code",
   "source": "",
   "id": "af08e94639dbf470",
   "outputs": [],
   "execution_count": null
  },
  {
   "metadata": {
    "ExecuteTime": {
     "end_time": "2025-09-28T09:01:31.710448Z",
     "start_time": "2025-09-28T09:01:31.706531Z"
    }
   },
   "cell_type": "code",
   "source": "",
   "id": "f58fe6e97e68fecf",
   "outputs": [],
   "execution_count": null
  },
  {
   "metadata": {
    "ExecuteTime": {
     "end_time": "2025-09-28T09:01:32.600811Z",
     "start_time": "2025-09-28T09:01:32.597867Z"
    }
   },
   "cell_type": "code",
   "source": "",
   "id": "25ce8895bcb4cae9",
   "outputs": [],
   "execution_count": null
  }
 ],
 "metadata": {
  "kernelspec": {
   "display_name": "Python 3",
   "language": "python",
   "name": "python3"
  },
  "language_info": {
   "codemirror_mode": {
    "name": "ipython",
    "version": 2
   },
   "file_extension": ".py",
   "mimetype": "text/x-python",
   "name": "python",
   "nbconvert_exporter": "python",
   "pygments_lexer": "ipython2",
   "version": "2.7.6"
  }
 },
 "nbformat": 4,
 "nbformat_minor": 5
}
